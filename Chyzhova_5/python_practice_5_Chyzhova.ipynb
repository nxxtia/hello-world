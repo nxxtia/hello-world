{
  "nbformat": 4,
  "nbformat_minor": 0,
  "metadata": {
    "colab": {
      "provenance": []
    },
    "kernelspec": {
      "name": "python3",
      "display_name": "Python 3"
    },
    "language_info": {
      "name": "python"
    }
  },
  "cells": [
    {
      "cell_type": "markdown",
      "source": [
        "# I. OOP"
      ],
      "metadata": {
        "id": "5qV_sehzFCTp"
      }
    },
    {
      "cell_type": "markdown",
      "source": [
        "1. (6б). Створіть клас Animal, додайте три атрибути, один з яких має значення за замовчуванням та два методи на свій розсуд."
      ],
      "metadata": {
        "id": "tx_U_hOALyfg"
      }
    },
    {
      "cell_type": "code",
      "source": [
        "class Animal:\n",
        "    def __init__(self, name, species, age=5):\n",
        "        self.name = name\n",
        "        self.species = species\n",
        "        self.age = age\n",
        "\n",
        "    def make_sound(self):\n",
        "        return f\"{self.name} makes a sound.\"\n",
        "\n",
        "    def describe(self):\n",
        "        return f\"{self.name} is a {self.age}-year-old {self.species}.\""
      ],
      "metadata": {
        "id": "-Vf895KaL88N"
      },
      "execution_count": 1,
      "outputs": []
    },
    {
      "cell_type": "markdown",
      "source": [
        "2. (2б). Створіть два обʼєкти цього класу, де один з обʼєктів створюється із дефолтним значенням атрибуту. На одному обʼєкті отримайте значення його атрибуту, а на іншому викличте один з його методів."
      ],
      "metadata": {
        "id": "X_UlOMB0L93w"
      }
    },
    {
      "cell_type": "code",
      "source": [
        "lion = Animal(name=\"Leo\", species=\"lion\")  # Uses default age\n",
        "parrot = Animal(name=\"Polly\", species=\"parrot\", age=3)\n",
        "\n",
        "lion_age = lion.age\n",
        "\n",
        "parrot_sound = parrot.make_sound()\n",
        "\n",
        "lion_age, parrot_sound"
      ],
      "metadata": {
        "id": "7gBu0ESOMCpG",
        "colab": {
          "base_uri": "https://localhost:8080/"
        },
        "outputId": "029a81f1-de19-407c-cb33-a506436a6d22"
      },
      "execution_count": 2,
      "outputs": [
        {
          "output_type": "execute_result",
          "data": {
            "text/plain": [
              "(5, 'Polly makes a sound.')"
            ]
          },
          "metadata": {},
          "execution_count": 2
        }
      ]
    },
    {
      "cell_type": "markdown",
      "source": [
        "3. (5б). Створіть клас, де атрибути мають різні рівні доступу. Спробуйте отримати їхні значення та опишіть результати."
      ],
      "metadata": {
        "id": "HoqSCZt1MHn5"
      }
    },
    {
      "cell_type": "code",
      "source": [
        "class PrivacyTest:\n",
        "    def __init__(self, public_data, _protected_data, __private_data):\n",
        "        self.public_data = public_data\n",
        "        self._protected_data = _protected_data\n",
        "        self.__private_data = __private_data\n",
        "\n",
        "    def get_protected_data(self):\n",
        "        return self._protected_data\n",
        "\n",
        "    def get_private_data(self):\n",
        "        return self.__private_data\n",
        "\n",
        "test_obj = PrivacyTest(\"Public\", \"Protected\", \"Private\")\n",
        "\n",
        "# Attempting to access attributes directly\n",
        "public_data = test_obj.public_data\n",
        "protected_data = None\n",
        "private_data = None\n",
        "\n",
        "try:\n",
        "    protected_data = test_obj._protected_data\n",
        "except AttributeError as e:\n",
        "    protected_data = str(e)\n",
        "\n",
        "try:\n",
        "    private_data = test_obj.__private_data\n",
        "except AttributeError as e:\n",
        "    private_data = str(e)\n",
        "\n",
        "# Accessing protected and private data via methods\n",
        "protected_data_via_method = test_obj.get_protected_data()\n",
        "private_data_via_method = test_obj.get_private_data()\n",
        "\n",
        "public_data, protected_data, private_data, protected_data_via_method, private_data_via_method\n"
      ],
      "metadata": {
        "id": "r9b3vJxBMSPV",
        "colab": {
          "base_uri": "https://localhost:8080/"
        },
        "outputId": "b4c30550-5484-4626-83f5-d8aa30ad4309"
      },
      "execution_count": 3,
      "outputs": [
        {
          "output_type": "execute_result",
          "data": {
            "text/plain": [
              "('Public',\n",
              " 'Protected',\n",
              " \"'PrivacyTest' object has no attribute '__private_data'\",\n",
              " 'Protected',\n",
              " 'Private')"
            ]
          },
          "metadata": {},
          "execution_count": 3
        }
      ]
    },
    {
      "cell_type": "markdown",
      "source": [
        "4. (7б). Як ви розумієте термін self? Для чого використовується метод __init __?"
      ],
      "metadata": {
        "id": "5op2m2vgMSkZ"
      }
    },
    {
      "cell_type": "markdown",
      "source": [
        "self є змінною, яка використовується для представлення екземпляра об'єкта класу. Коли метод класу викликається для об'єкта, Python автоматично передає об'єкт як перший аргумент методу. Аргумент self дає методам доступ до атрибутів та інших методів того ж об'єкта, дозволяючи кожному екземпляру мати свій власний стан та поведінку.\n",
        "Метод __ init __ є спеціальним методом, який викликається автоматично, коли створюється новий об'єкт класу. Це конструктор класу, який ініціалізує нові об'єкти, встановлюючи їх початковий стан. Він може приймати аргументи (крім self, який передається автоматично) для налаштування атрибутів об'єкта при його створенні."
      ],
      "metadata": {
        "id": "DyiPqNRvMasx"
      }
    },
    {
      "cell_type": "markdown",
      "source": [
        "5. (9б). Створіть клас Фігура без атрибутів, з методом get_area для отримання площі фігури, що повертає 0 та __add __, який приймає self та other в якості аргументів, а повертає суму площин фігур self та other."
      ],
      "metadata": {
        "id": "-6X8EGfjMd2y"
      }
    },
    {
      "cell_type": "code",
      "source": [
        "class Figure:\n",
        "    def get_area(self):\n",
        "        return 0\n",
        "\n",
        "    def __add__(self, other):\n",
        "        return self.get_area() + other.get_area()\n",
        "\n",
        "fig1 = Figure()\n",
        "fig2 = Figure()\n",
        "combined_area = fig1 + fig2\n",
        "print(combined_area)"
      ],
      "metadata": {
        "id": "4rvO_wYUMaEr",
        "colab": {
          "base_uri": "https://localhost:8080/"
        },
        "outputId": "0e3324c6-186b-4c1b-84a3-ddeb4f8ca9ca"
      },
      "execution_count": 4,
      "outputs": [
        {
          "output_type": "stream",
          "name": "stdout",
          "text": [
            "0\n"
          ]
        }
      ]
    },
    {
      "cell_type": "markdown",
      "source": [
        "6. (11б). Створіть 2 дочірніх класи від Фігури: Трикутник та Коло, які мають атрибути, необхідні для розрахунку площин. Визначте метод get_area в кожному з них так, щоби вони розраховували площу в залежності від формули для кожного типу фігури. Створіть обʼєкт класу Трикутник та обʼєкт класу Коло. Виконайте операцію суми за допомогою оператора + між ними."
      ],
      "metadata": {
        "id": "SFcKnnv5Mo_z"
      }
    },
    {
      "cell_type": "code",
      "source": [
        "import math\n",
        "\n",
        "class Triangle(Figure):\n",
        "    def __init__(self, base, height):\n",
        "        self.base = base\n",
        "        self.height = height\n",
        "\n",
        "    def get_area(self):\n",
        "        return 0.5 * self.base * self.height\n",
        "\n",
        "class Circle(Figure):\n",
        "    def __init__(self, radius):\n",
        "        self.radius = radius\n",
        "\n",
        "    def get_area(self):\n",
        "        return math.pi * (self.radius ** 2)\n",
        "\n",
        "# Creating an instance of Triangle with base=10, height=5\n",
        "triangle = Triangle(base=10, height=5)\n",
        "\n",
        "# Creating an instance of Circle with radius=7\n",
        "circle = Circle(radius=7)\n",
        "\n",
        "combined_area = triangle + circle\n",
        "\n",
        "combined_area"
      ],
      "metadata": {
        "id": "H3GVNr69Muf3",
        "colab": {
          "base_uri": "https://localhost:8080/"
        },
        "outputId": "3b37f4d6-4df3-4398-ca38-b79b5acae5eb"
      },
      "execution_count": 5,
      "outputs": [
        {
          "output_type": "execute_result",
          "data": {
            "text/plain": [
              "178.93804002589985"
            ]
          },
          "metadata": {},
          "execution_count": 5
        }
      ]
    },
    {
      "cell_type": "markdown",
      "source": [
        "7. (3б). Продемонструйте різницю між isinstance та issubclass."
      ],
      "metadata": {
        "id": "HCvR206YMvLK"
      }
    },
    {
      "cell_type": "code",
      "source": [
        "class Animal:\n",
        "    pass\n",
        "\n",
        "class Dog(Animal):\n",
        "    pass\n",
        "\n",
        "# Creating instances\n",
        "a_dog = Dog()\n",
        "\n",
        "# Checking instances\n",
        "print(isinstance(a_dog, Dog))  # True, a_dog is an instance of Dog\n",
        "print(isinstance(a_dog, Animal))  # True, Dog is a subclass of Animal, so a_dog is also an instance of Animal\n",
        "\n",
        "# Checking subclassing\n",
        "print(issubclass(Dog, Animal))  # True, Dog is a subclass of Animal\n",
        "print(issubclass(Animal, Dog))  # False, Animal is not a subclass of Dog\n"
      ],
      "metadata": {
        "id": "L_V1bBvDM0GN",
        "colab": {
          "base_uri": "https://localhost:8080/"
        },
        "outputId": "a0247eab-67ee-4be6-9ee4-32302f49b266"
      },
      "execution_count": 6,
      "outputs": [
        {
          "output_type": "stream",
          "name": "stdout",
          "text": [
            "True\n",
            "True\n",
            "True\n",
            "False\n"
          ]
        }
      ]
    },
    {
      "cell_type": "markdown",
      "source": [
        "8. (13б). Створіть клас BankAccount з приватними атрибутами balance та account_number. Реалізуйте методи поповнення та зняття коштів, забезпечивши належну інкапсуляцію. Підказка: використовуйте декоратори property та setter."
      ],
      "metadata": {
        "id": "jjsaBZ-iM0Qq"
      }
    },
    {
      "cell_type": "code",
      "source": [
        "class BankAccount:\n",
        "    def __init__(self, account_number, initial_balance=0):\n",
        "        self.__account_number = account_number\n",
        "        self.__balance = initial_balance\n",
        "\n",
        "    @property\n",
        "    def balance(self):\n",
        "        return self.__balance\n",
        "\n",
        "    @balance.setter\n",
        "    def balance(self, value):\n",
        "        raise ValueError(\"Direct assignment to balance is not allowed. Use deposit or withdraw methods.\")\n",
        "\n",
        "    def deposit(self, amount):\n",
        "        if amount <= 0:\n",
        "            raise ValueError(\"Deposit amount must be positive.\")\n",
        "        self.__balance += amount\n",
        "        return self.__balance\n",
        "\n",
        "    def withdraw(self, amount):\n",
        "        if amount <= 0:\n",
        "            raise ValueError(\"Withdrawal amount must be positive.\")\n",
        "        if amount > self.__balance:\n",
        "            raise ValueError(\"Insufficient funds.\")\n",
        "        self.__balance -= amount\n",
        "        return self.__balance\n",
        "\n",
        "account = BankAccount(\"123456789\", 1000)\n",
        "account.deposit(500)\n",
        "print(account.balance)\n",
        "account.withdraw(200)\n",
        "print(account.balance)\n"
      ],
      "metadata": {
        "id": "xCvZ7lh8M7YA",
        "colab": {
          "base_uri": "https://localhost:8080/"
        },
        "outputId": "c2877821-8765-4e04-b78e-edf085a7aaf0"
      },
      "execution_count": 7,
      "outputs": [
        {
          "output_type": "stream",
          "name": "stdout",
          "text": [
            "1500\n",
            "1300\n"
          ]
        }
      ]
    },
    {
      "cell_type": "markdown",
      "source": [
        "9. (11б). Створіть клас Library, який містить список об'єктів типу Book. Реалізуйте методи для додавання книги, видалення книги та відображення списку книг."
      ],
      "metadata": {
        "id": "tIzL2SJTM8ft"
      }
    },
    {
      "cell_type": "code",
      "source": [
        "class Book:\n",
        "    def __init__(self, title, author):\n",
        "        self.title = title\n",
        "        self.author = author\n",
        "\n",
        "    def __str__(self):\n",
        "        return f\"'{self.title}' by {self.author}\"\n",
        "\n",
        "class Library:\n",
        "    def __init__(self):\n",
        "        self.books = []\n",
        "\n",
        "    def add_book(self, book):\n",
        "        self.books.append(book)\n",
        "\n",
        "    def remove_book(self, title):\n",
        "        for book in self.books:\n",
        "            if book.title == title:\n",
        "                self.books.remove(book)\n",
        "                return f\"Book '{title}' removed.\"\n",
        "        return f\"Book '{title}' not found.\"\n",
        "\n",
        "    def display_books(self):\n",
        "        if not self.books:\n",
        "            return \"The library is empty.\"\n",
        "        return \"\\n\".join(str(book) for book in self.books)\n",
        "\n",
        "\n",
        "library = Library()\n",
        "book1 = Book(\"The Great Gatsby\", \"F. Scott Fitzgerald\")\n",
        "book2 = Book(\"To Kill a Mockingbird\", \"Harper Lee\")\n",
        "library.add_book(book1)\n",
        "library.add_book(book2)\n",
        "print(library.display_books())\n",
        "library.remove_book(\"The Great Gatsby\")\n",
        "print(library.display_books())\n"
      ],
      "metadata": {
        "id": "HWxfJKLtNAUZ",
        "colab": {
          "base_uri": "https://localhost:8080/"
        },
        "outputId": "a9c2b43e-57e7-4eac-9658-027922dade73"
      },
      "execution_count": 8,
      "outputs": [
        {
          "output_type": "stream",
          "name": "stdout",
          "text": [
            "'The Great Gatsby' by F. Scott Fitzgerald\n",
            "'To Kill a Mockingbird' by Harper Lee\n",
            "'To Kill a Mockingbird' by Harper Lee\n"
          ]
        }
      ]
    },
    {
      "cell_type": "markdown",
      "source": [
        "10. (13б). Створіть клас Person з атрибутами name та age. Створіть ще один клас Employee з такими атрибутами, як department та salary. Створіть клас Manager, який успадковує обидва класи Person та Employee. Продемонструйте використання множинної спадковості, створивши обʼєкт класу Manager та отримавши mro для цього класу."
      ],
      "metadata": {
        "id": "lmV8pAwwNIqu"
      }
    },
    {
      "cell_type": "code",
      "source": [
        "class Person:\n",
        "    def __init__(self, name, age):\n",
        "        self.name = name\n",
        "        self.age = age\n",
        "\n",
        "class Employee:\n",
        "    def __init__(self, department, salary):\n",
        "        self.department = department\n",
        "        self.salary = salary\n",
        "\n",
        "class Manager(Person, Employee):\n",
        "    def __init__(self, name, age, department, salary):\n",
        "        Person.__init__(self, name, age)\n",
        "        Employee.__init__(self, department, salary)\n",
        "\n",
        "# Creating an instance of Manager\n",
        "manager = Manager(\"Alisa Liu\", 40, \"Finance\", 80000)\n",
        "\n",
        "mro_result = Manager.__mro__\n",
        "\n",
        "manager_details = f\"Name: {manager.name}, Age: {manager.age}, Department: {manager.department}, Salary: {manager.salary}\"\n",
        "manager_details, mro_result\n"
      ],
      "metadata": {
        "id": "R49grKlWNPeN",
        "colab": {
          "base_uri": "https://localhost:8080/"
        },
        "outputId": "9a131aaf-5e11-4056-e89f-8f3ec40f4e7f"
      },
      "execution_count": 9,
      "outputs": [
        {
          "output_type": "execute_result",
          "data": {
            "text/plain": [
              "('Name: Alisa Liu, Age: 40, Department: Finance, Salary: 80000',\n",
              " (__main__.Manager, __main__.Person, __main__.Employee, object))"
            ]
          },
          "metadata": {},
          "execution_count": 9
        }
      ]
    },
    {
      "cell_type": "markdown",
      "source": [
        "# II. Iterator"
      ],
      "metadata": {
        "id": "dIJyUiNBFG8G"
      }
    },
    {
      "cell_type": "markdown",
      "source": [
        "11. (4б). Визначте рядок(str) з 4ма різними за значенням символами. Створіть ітератор на основі цього рядка. Викличте 5 разів функцію next на ітераторі, 4ри перших з них огорніть у ф-цію print()."
      ],
      "metadata": {
        "id": "13vsm0NyKIzL"
      }
    },
    {
      "cell_type": "code",
      "source": [
        "sample_str = \"abcd\"\n",
        "\n",
        "str_iterator = iter(sample_str)\n",
        "\n",
        "# Using next() function to iterate through the iterator\n",
        "print(next(str_iterator))\n",
        "print(next(str_iterator))\n",
        "print(next(str_iterator))\n",
        "print(next(str_iterator))\n",
        "\n",
        "# The fifth call to next() without print, to demonstrate StopIteration exception\n",
        "try:\n",
        "    fifth_element = next(str_iterator)\n",
        "except StopIteration as e:\n",
        "    fifth_element = \"StopIteration exception occurred.\"\n",
        "\n",
        "fifth_element"
      ],
      "metadata": {
        "id": "81ntabAkKuz-",
        "colab": {
          "base_uri": "https://localhost:8080/",
          "height": 103
        },
        "outputId": "e160bcb5-d0bd-4b66-c449-e5c46918a6d3"
      },
      "execution_count": 10,
      "outputs": [
        {
          "output_type": "stream",
          "name": "stdout",
          "text": [
            "a\n",
            "b\n",
            "c\n",
            "d\n"
          ]
        },
        {
          "output_type": "execute_result",
          "data": {
            "text/plain": [
              "'StopIteration exception occurred.'"
            ],
            "application/vnd.google.colaboratory.intrinsic+json": {
              "type": "string"
            }
          },
          "metadata": {},
          "execution_count": 10
        }
      ]
    },
    {
      "cell_type": "markdown",
      "source": [
        "А що якщо викликати цю ж функцію на рядку?"
      ],
      "metadata": {
        "id": "aekWHGXOLRsO"
      }
    },
    {
      "cell_type": "code",
      "source": [
        "sample_str = \"abcd\"\n",
        "try:\n",
        "    print(next(sample_str))\n",
        "except TypeError as e:\n",
        "    error_message = str(e)\n",
        "\n",
        "error_message"
      ],
      "metadata": {
        "id": "mxATGsErLV1i",
        "colab": {
          "base_uri": "https://localhost:8080/",
          "height": 35
        },
        "outputId": "c3121cdd-5573-4896-b861-bc5a3a92db1a"
      },
      "execution_count": 11,
      "outputs": [
        {
          "output_type": "execute_result",
          "data": {
            "text/plain": [
              "\"'str' object is not an iterator\""
            ],
            "application/vnd.google.colaboratory.intrinsic+json": {
              "type": "string"
            }
          },
          "metadata": {},
          "execution_count": 11
        }
      ]
    },
    {
      "cell_type": "markdown",
      "source": [
        " 12. (5б). Опишіть своїми словами в одному реченні, як ви розумієте різницю між ітерабельними обʼєктами та ітераторами (можна на прикладі)."
      ],
      "metadata": {
        "id": "XwtMEopwJ4pH"
      }
    },
    {
      "cell_type": "markdown",
      "source": [
        "Ітерабельні об'єкти - це об'єкти, з яких можна по черзі отримати їх елементи (наприклад, список), тоді як ітератори - це спеціальні об'єкти, які використовуються для перебору ітерабельних об'єктів, здатні повертати наступний елемент при кожному виклику методу next()."
      ],
      "metadata": {
        "id": "-sHrODc3KFn8"
      }
    },
    {
      "cell_type": "markdown",
      "source": [
        "13. (11б). Створіть клас, що має визначений Iterator Protocol та при кожному виклику next повертає літери англійської абетки, поки вони не вичерпаються."
      ],
      "metadata": {
        "id": "E9qJWmNbK8Gl"
      }
    },
    {
      "cell_type": "code",
      "source": [
        "class AlphabetIterator:\n",
        "    def __init__(self):\n",
        "        self.letters = \"abcdefghijklmnopqrstuvwxyz\"\n",
        "        self.index = 0\n",
        "\n",
        "    def __iter__(self):\n",
        "        return self\n",
        "\n",
        "    def __next__(self):\n",
        "        if self.index < len(self.letters):\n",
        "            letter = self.letters[self.index]\n",
        "            self.index += 1\n",
        "            return letter\n",
        "        else:\n",
        "            raise StopIteration\n",
        "\n",
        "alphabet_iterator = AlphabetIterator()\n",
        "for letter in alphabet_iterator:\n",
        "    print(letter)\n",
        "\n",
        "# Attempting to iterate again will not print anything since the iterator is exhausted\n",
        "for letter in alphabet_iterator:\n",
        "    print(letter)\n"
      ],
      "metadata": {
        "id": "cqx-g_RsLo6I",
        "colab": {
          "base_uri": "https://localhost:8080/"
        },
        "outputId": "d8e94cad-7d61-4651-8769-272e55bb87bb"
      },
      "execution_count": 12,
      "outputs": [
        {
          "output_type": "stream",
          "name": "stdout",
          "text": [
            "a\n",
            "b\n",
            "c\n",
            "d\n",
            "e\n",
            "f\n",
            "g\n",
            "h\n",
            "i\n",
            "j\n",
            "k\n",
            "l\n",
            "m\n",
            "n\n",
            "o\n",
            "p\n",
            "q\n",
            "r\n",
            "s\n",
            "t\n",
            "u\n",
            "v\n",
            "w\n",
            "x\n",
            "y\n",
            "z\n"
          ]
        }
      ]
    },
    {
      "cell_type": "markdown",
      "source": [
        "# Вітаю! Ви велика(ий) молодець, що впоралась(вся). Похваліть себе та побалуйте чимось приємним. Я Вами пишаюся."
      ],
      "metadata": {
        "id": "Z3E3S_s1Fv7-"
      }
    }
  ]
}