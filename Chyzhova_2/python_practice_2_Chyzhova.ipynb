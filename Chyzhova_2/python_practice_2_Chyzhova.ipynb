{
  "nbformat": 4,
  "nbformat_minor": 0,
  "metadata": {
    "colab": {
      "provenance": []
    },
    "kernelspec": {
      "name": "python3",
      "display_name": "Python 3"
    },
    "language_info": {
      "name": "python"
    }
  },
  "cells": [
    {
      "cell_type": "markdown",
      "source": [
        "# I. Змінні та памʼять."
      ],
      "metadata": {
        "id": "p9wwt0LZzNvn"
      }
    },
    {
      "cell_type": "markdown",
      "source": [
        "1. Створити змінні, що посилаються на два цілих числа, що однакові за значенням, де значення належить проміжку від -5 до 256. Перевірте, чи будуть ці змінні рівні тільки за значенням або ж ще будуть посилатися на один і той самий обʼєкт в памʼяті? Наведіть код та дайте текстову відповідь нижче."
      ],
      "metadata": {
        "id": "HTJrrm95xSV9"
      }
    },
    {
      "cell_type": "code",
      "execution_count": 4,
      "metadata": {
        "id": "TATni2vzayjG",
        "colab": {
          "base_uri": "https://localhost:8080/"
        },
        "outputId": "1c47da4b-47b1-406a-f4a5-0971b7cdc4b7"
      },
      "outputs": [
        {
          "output_type": "stream",
          "name": "stdout",
          "text": [
            "True\n",
            "134190699435696\n",
            "134190699435696\n",
            "True\n"
          ]
        }
      ],
      "source": [
        "a = 175\n",
        "b = 175\n",
        "\n",
        "print(a == b)\n",
        "print(id(a))\n",
        "print(id(b))\n",
        "print(id(a) == id(b))"
      ]
    },
    {
      "cell_type": "markdown",
      "source": [
        "*місце для текстової відповіді"
      ],
      "metadata": {
        "id": "zfRG_o3WbRdg"
      }
    },
    {
      "cell_type": "markdown",
      "source": [
        "Створивши дві змінні з однаковим значенням, що рівні 175, тобто лежать в проміжку [-5;256], я переколалася, що вони рівні і за значенням, і посилаються на один і той самий об'єкт в пам'яті."
      ],
      "metadata": {
        "id": "UMx5hHWpbQ0q"
      }
    },
    {
      "cell_type": "markdown",
      "source": [
        "2. За допомогою якої функції можна перевірити належність змінної до вказаного типу даних (напр. чи змінна True посилається на значення булевого та цілочисленого типу)?"
      ],
      "metadata": {
        "id": "ISORzt6M3vAt"
      }
    },
    {
      "cell_type": "markdown",
      "source": [
        "За допомогою функції 'isinstance()'"
      ],
      "metadata": {
        "id": "Uf0mAeWcdlsf"
      }
    },
    {
      "cell_type": "code",
      "source": [
        "b = True\n",
        "print(isinstance(b, bool))\n",
        "print(isinstance(b, (bool, int)))\n"
      ],
      "metadata": {
        "id": "9vL9CFaMbfyo",
        "colab": {
          "base_uri": "https://localhost:8080/"
        },
        "outputId": "21b7af53-f926-4ef7-ee53-3b0c037067bd"
      },
      "execution_count": 9,
      "outputs": [
        {
          "output_type": "stream",
          "name": "stdout",
          "text": [
            "True\n",
            "True\n"
          ]
        }
      ]
    },
    {
      "cell_type": "markdown",
      "source": [
        "# II. Цілі числа та числа з рухомою комою"
      ],
      "metadata": {
        "id": "tRxugKAxwYLw"
      }
    },
    {
      "cell_type": "markdown",
      "source": [
        "3. Створити дві змінні, що посилаються на будь-які ціле число та число з рухомою комою та продемонструвати такі арифметичні операції: додавання, віднімання, ділення, множення, ділення без залишку, ділення по модулю, приведення до ступеню. Всі результати операцій вивести на екран."
      ],
      "metadata": {
        "id": "NLHkgd5Gybc8"
      }
    },
    {
      "cell_type": "code",
      "source": [
        "first = 44\n",
        "second = 34.55\n",
        "\n",
        "print(\"Додавання:\", first + second)\n",
        "print(\"Віднімання:\", first - second)\n",
        "print(\"Ділення:\", first / second)\n",
        "print(\"Множення:\", first * second)\n",
        "print(\"Ділення без залишку:\", first // second)\n",
        "print(\"Ділення по модулю:\", first % second)\n",
        "print(\"Піднесення до ступеня ціле число:\", first ** 2)\n",
        "print(\"Піднесення до ступеня float число:\", second ** 2)"
      ],
      "metadata": {
        "id": "nb8u_3pjb2cA",
        "colab": {
          "base_uri": "https://localhost:8080/"
        },
        "outputId": "28bdf1a1-6b27-4250-803d-15cc483d996e"
      },
      "execution_count": 19,
      "outputs": [
        {
          "output_type": "stream",
          "name": "stdout",
          "text": [
            "Додавання: 78.55\n",
            "Віднімання: 9.450000000000003\n",
            "Ділення: 1.2735166425470335\n",
            "Множення: 1520.1999999999998\n",
            "Ділення без залишку: 1.0\n",
            "Ділення по модулю: 9.450000000000003\n",
            "Піднесення до ступеня ціле число: 1936\n",
            "Піднесення до ступеня float число: 1193.7024999999999\n"
          ]
        }
      ]
    },
    {
      "cell_type": "markdown",
      "source": [
        "4. Використовуючи змінні з вправи 3, продемонструйте механізм явного перетворення типів, де числа з рухомою комою перетворюються на цілі числа. Також визначте змінну, що посилається на значення булевого типу і спробуйте явно привести її до цілого числа."
      ],
      "metadata": {
        "id": "1kBClKgPzZnC"
      }
    },
    {
      "cell_type": "code",
      "source": [
        "converted_float_to_int = int(second)\n",
        "print(converted_float_to_int)\n",
        "print(type(converted_float_to_int))\n",
        "\n",
        "bool_value = True\n",
        "converted_bool_to_int = int(bool_value)\n",
        "print(converted_bool_to_int)\n",
        "print(type(converted_bool_to_int))"
      ],
      "metadata": {
        "id": "TbqJbkeUcKsD",
        "colab": {
          "base_uri": "https://localhost:8080/"
        },
        "outputId": "d206e3c9-60ad-409d-ba72-4582f188adb7"
      },
      "execution_count": 27,
      "outputs": [
        {
          "output_type": "stream",
          "name": "stdout",
          "text": [
            "34\n",
            "<class 'int'>\n",
            "1\n",
            "<class 'int'>\n"
          ]
        }
      ]
    },
    {
      "cell_type": "markdown",
      "source": [
        "# IІІ. Рядки (String)."
      ],
      "metadata": {
        "id": "EVJ7AflwxrZi"
      }
    },
    {
      "cell_type": "markdown",
      "source": [
        "5. Створити пустий рядок двома різними способами."
      ],
      "metadata": {
        "id": "_s5ECzz9zE61"
      }
    },
    {
      "cell_type": "code",
      "source": [
        "a_str = \"\"\n",
        "b_str = ''\n",
        "\n",
        "print(a_str)\n",
        "print(b_str)"
      ],
      "metadata": {
        "id": "fkZJHu9Scvc-",
        "colab": {
          "base_uri": "https://localhost:8080/"
        },
        "outputId": "9fbff7d8-6b12-4d3b-b02d-8ae5a74318e7"
      },
      "execution_count": 28,
      "outputs": [
        {
          "output_type": "stream",
          "name": "stdout",
          "text": [
            "\n",
            "\n"
          ]
        }
      ]
    },
    {
      "cell_type": "markdown",
      "source": [
        "6. Створити рядок з апострофом. Зробити його сирим. Вивести обидва рядка на екран."
      ],
      "metadata": {
        "id": "4Bdn9J3MzLf_"
      }
    },
    {
      "cell_type": "code",
      "source": [
        "ap_str = \"\\'\"\n",
        "raw_ap_str = r\"\\'\"\n",
        "\n",
        "print(ap_str)\n",
        "print(raw_ap_str)"
      ],
      "metadata": {
        "id": "ivji_hsmc0GH",
        "colab": {
          "base_uri": "https://localhost:8080/"
        },
        "outputId": "b379fbf3-7a96-4553-82c0-ba76f7fb203f"
      },
      "execution_count": 30,
      "outputs": [
        {
          "output_type": "stream",
          "name": "stdout",
          "text": [
            "'\n",
            "\\'\n"
          ]
        }
      ]
    },
    {
      "cell_type": "markdown",
      "source": [
        "7. Створити змінну, що буде посилатися на Ваше прізвище латинкою. Створити форматований рядок, який буде мати вигляд \"My surname is ______\", де на місці нижніх підкреслень буде Ваше прізвище зі змінної."
      ],
      "metadata": {
        "id": "bg_d8wM4z8dS"
      }
    },
    {
      "cell_type": "code",
      "source": [
        "surname = \"Chyzhova\"\n",
        "f_str = f\"My surname is {surname}\"\n",
        "\n",
        "print(f_str)"
      ],
      "metadata": {
        "id": "kuxFgpWndACq",
        "colab": {
          "base_uri": "https://localhost:8080/"
        },
        "outputId": "2bc8ca48-b784-418f-b566-dfcaede0fb4b"
      },
      "execution_count": 31,
      "outputs": [
        {
          "output_type": "stream",
          "name": "stdout",
          "text": [
            "My surname is Chyzhova\n"
          ]
        }
      ]
    },
    {
      "cell_type": "markdown",
      "source": [
        "8. Маючи рядок \"My dog is crazy.\" перетворити його на список [\"my\", \"dog\", \"is\", \"crazy\"]"
      ],
      "metadata": {
        "id": "1Nc6RqvQ0hxU"
      }
    },
    {
      "cell_type": "code",
      "source": [
        "sentence = \"My dog is crazy.\"\n",
        "split_sentence = sentence.split()\n",
        "\n",
        "print(split_sentence)"
      ],
      "metadata": {
        "id": "w1Ya4RqedUhw",
        "colab": {
          "base_uri": "https://localhost:8080/"
        },
        "outputId": "77727050-71d4-4e31-c318-c366ed065174"
      },
      "execution_count": 32,
      "outputs": [
        {
          "output_type": "stream",
          "name": "stdout",
          "text": [
            "['My', 'dog', 'is', 'crazy.']\n"
          ]
        }
      ]
    },
    {
      "cell_type": "markdown",
      "source": [
        "# IV. Робота зі списками."
      ],
      "metadata": {
        "id": "GYVqN9uP1D4n"
      }
    },
    {
      "cell_type": "markdown",
      "source": [
        "9. Створити список двома різними за синтаксисом способами. За допомогою вбудованої функції обчисліть довжину одного з них."
      ],
      "metadata": {
        "id": "7-DeDunw2sO-"
      }
    },
    {
      "cell_type": "code",
      "source": [
        "l1 = [1, 2, 3, 4, 5]\n",
        "l2 = list([3, 5, 7, 9, 11])\n",
        "\n",
        "print(l1)\n",
        "print(l2)\n",
        "print(len(l1))\n",
        "print(len(l2))"
      ],
      "metadata": {
        "id": "zxg06Uuxdyoh",
        "colab": {
          "base_uri": "https://localhost:8080/"
        },
        "outputId": "90a1d22f-bd8d-408d-facc-2ab8eeeb0311"
      },
      "execution_count": 36,
      "outputs": [
        {
          "output_type": "stream",
          "name": "stdout",
          "text": [
            "[1, 2, 3, 4, 5]\n",
            "[3, 5, 7, 9, 11]\n",
            "5\n",
            "5\n"
          ]
        }
      ]
    },
    {
      "cell_type": "markdown",
      "source": [
        "10. Створіть два списка та за допомогою спеціального методу додайте другий з\n",
        "них в якості останнього елемента першого."
      ],
      "metadata": {
        "id": "8vmGUTjL22gI"
      }
    },
    {
      "cell_type": "code",
      "source": [
        "list1 = [1, 2, 3, 4, 5]\n",
        "list2 = ['a', 'b', 'c']\n",
        "\n",
        "list1.append(list2)\n",
        "\n",
        "print(list1)"
      ],
      "metadata": {
        "id": "uHtjWYw7d7hm",
        "colab": {
          "base_uri": "https://localhost:8080/"
        },
        "outputId": "156a7315-a6e1-439b-cb5c-ee99f482c085"
      },
      "execution_count": 37,
      "outputs": [
        {
          "output_type": "stream",
          "name": "stdout",
          "text": [
            "[1, 2, 3, 4, 5, ['a', 'b', 'c']]\n"
          ]
        }
      ]
    },
    {
      "cell_type": "markdown",
      "source": [
        "11. Створіть список, де елементами цього списку також є списки. Отримай перший елемент з останнього рядка та виведи значення на екран."
      ],
      "metadata": {
        "id": "JC3BkD-67_--"
      }
    },
    {
      "cell_type": "code",
      "source": [
        "list3 = [\n",
        "    [1, 2, 3],\n",
        "    [4, 5, 6],\n",
        "    [7, 8, 9]\n",
        "]\n",
        "\n",
        "last_list = list3[-1]\n",
        "first_element = last_list[0]\n",
        "\n",
        "print(first_element)"
      ],
      "metadata": {
        "id": "Kz2jZHsGeLlz",
        "colab": {
          "base_uri": "https://localhost:8080/"
        },
        "outputId": "da582293-0ec3-4a2b-b32c-e917ed142ae0"
      },
      "execution_count": 38,
      "outputs": [
        {
          "output_type": "stream",
          "name": "stdout",
          "text": [
            "7\n"
          ]
        }
      ]
    },
    {
      "cell_type": "markdown",
      "source": [
        "12. Створіть список з десяти елементів різного типу. Отримайте всі елементи, окрім двох перших та двох останніх та збережіть їх в новій змінній."
      ],
      "metadata": {
        "id": "JA47PKTv8zFK"
      }
    },
    {
      "cell_type": "code",
      "source": [
        "list4 = [1, 'two', 3.0, True, [5, 6], 'seven', 8, {'nine': 9}, None, ('ten', 10)]\n",
        "\n",
        "list5 = list4[2:-2]\n",
        "\n",
        "print(list5)\n"
      ],
      "metadata": {
        "id": "_rHdUR-ueP4-",
        "colab": {
          "base_uri": "https://localhost:8080/"
        },
        "outputId": "8d376b97-0baa-4380-9788-e304f5cc0ca1"
      },
      "execution_count": 39,
      "outputs": [
        {
          "output_type": "stream",
          "name": "stdout",
          "text": [
            "[3.0, True, [5, 6], 'seven', 8, {'nine': 9}]\n"
          ]
        }
      ]
    },
    {
      "cell_type": "markdown",
      "source": [
        "# V. Робота з кортежами."
      ],
      "metadata": {
        "id": "pCjR1dJb1Qbi"
      }
    },
    {
      "cell_type": "markdown",
      "source": [
        "14. Створити кортеж з один елементом."
      ],
      "metadata": {
        "id": "fAZCxAX06R_k"
      }
    },
    {
      "cell_type": "code",
      "source": [
        "t1 = (1,)\n",
        "print(t1)"
      ],
      "metadata": {
        "id": "H7d82WkQev3e",
        "colab": {
          "base_uri": "https://localhost:8080/"
        },
        "outputId": "8194c992-630b-4b19-a7ad-9d73ef68f0ef"
      },
      "execution_count": 40,
      "outputs": [
        {
          "output_type": "stream",
          "name": "stdout",
          "text": [
            "(1,)\n"
          ]
        }
      ]
    },
    {
      "cell_type": "markdown",
      "source": [
        "15. Порівняйте список та кортеж. Назвіть схожості та відмінності, випадки використання."
      ],
      "metadata": {
        "id": "8LCtYcmI6w1M"
      }
    },
    {
      "cell_type": "markdown",
      "source": [
        "*місце для текстової відповіді"
      ],
      "metadata": {
        "id": "fUsN1Hnue0C6"
      }
    },
    {
      "cell_type": "markdown",
      "source": [
        "Як списки, так і кортежі є упорядкованими колекціями елементів, що означає, що елементи зберігаються в тому ж порядку, в якому були додані. Як списки, так і кортежі підтримують доступ до елементів за допомогою індексів та зрізів, списки і кортежі можна ітерувати.\n",
        "Основна відмінність між ними полягає в тому, що списки є змінними (mutable), тобто їх можна змінювати після створення, додавати нові елементи, змінювати існуючі та видаляти. А кортеж не можна змінювати після його створення. Кортежі є незмінними (immutable). Списки створюються за допомогою квадратних дужок [ ], а кортежі - за допомогою круглих дужок ( ).  Кортежі, як незмінні структури даних, зазвичай потребують менше пам'яті та працюють трохи швидше, ніж списки.\n",
        "Списки використовуються там, де потрібна змінність структури даних, такі як зберігання послідовностей елементів, які можуть змінюватись.\n",
        "Кортежі використовуються там, де потрібно створити незмінну послідовність елементів, наприклад, використовуються для передачі аргументів в функції, як ключі в словниках тощо."
      ],
      "metadata": {
        "id": "nmRGFoJZlKX7"
      }
    },
    {
      "cell_type": "markdown",
      "source": [
        "16. Створіть кортеж з 11ти елементів чисел з рухомою комою та отримайте кожен парний за індексом елемент в зворотньому порядку. Наприклад, маючи (1.2, 2.3, 3.3, 4.3, 5.3, 6.3, 7.3, 8.3, 9.3, 0.3), отримати (0.3, 8.3, 6.3, 4.3, 2.3). Результат збережіть в нову змінну та виведіть на екран."
      ],
      "metadata": {
        "id": "m0xrwFijAmDD"
      }
    },
    {
      "cell_type": "code",
      "source": [
        "t2 = (1.2, 2.3, 3.3, 4.3, 5.3, 6.3, 7.3, 8.3, 9.3, 10.3, 11.3)\n",
        "result_tuple = t2[::-2]\n",
        "\n",
        "print(result_tuple)"
      ],
      "metadata": {
        "id": "p-5DAH6XfAGA",
        "colab": {
          "base_uri": "https://localhost:8080/"
        },
        "outputId": "a971d0a0-af79-4306-94ba-2e53b9de3ef7"
      },
      "execution_count": 42,
      "outputs": [
        {
          "output_type": "stream",
          "name": "stdout",
          "text": [
            "(11.3, 9.3, 7.3, 5.3, 3.3, 1.2)\n"
          ]
        }
      ]
    },
    {
      "cell_type": "markdown",
      "source": [
        "# VI. Множини (Set)."
      ],
      "metadata": {
        "id": "rW_I9dt3x6cW"
      }
    },
    {
      "cell_type": "markdown",
      "source": [
        "17. Створити множину без елементів. Після цого за допомогою методу додайте кілька різних елементів до множини. Чи множини є змінним типом даних?"
      ],
      "metadata": {
        "id": "zNjRLHLw1Bgg"
      }
    },
    {
      "cell_type": "code",
      "source": [
        "set1 = set()\n",
        "print(set1)\n",
        "\n",
        "set1.add(765)\n",
        "set1.add('laallalalala')\n",
        "set1.add(8.9)\n",
        "\n",
        "print(set1)"
      ],
      "metadata": {
        "id": "KOv7zc2Kfo4N",
        "colab": {
          "base_uri": "https://localhost:8080/"
        },
        "outputId": "92e793d2-d4ea-45c4-daeb-5a6f4df554c5"
      },
      "execution_count": 45,
      "outputs": [
        {
          "output_type": "stream",
          "name": "stdout",
          "text": [
            "set()\n",
            "{8.9, 'laallalalala', 765}\n"
          ]
        }
      ]
    },
    {
      "cell_type": "markdown",
      "source": [
        "*місце для текстової відповіді"
      ],
      "metadata": {
        "id": "vxS6dVYiftZQ"
      }
    },
    {
      "cell_type": "markdown",
      "source": [
        "так, множини є змінними типом даних в Python. Множини можна змінювати, додавати до них нові елементи, видаляти елементи і так далі."
      ],
      "metadata": {
        "id": "lJZNLaW3ot45"
      }
    },
    {
      "cell_type": "markdown",
      "source": [
        "18. Створити множину, маючи список my_list = [1, 1, 2, 67, 67, 8, 9]. Пояснити, чому \"зникли\" деякі елементи."
      ],
      "metadata": {
        "id": "gHpT0Zw_1HEF"
      }
    },
    {
      "cell_type": "code",
      "source": [
        "my_list = [1, 1, 2, 67, 67, 8, 9]\n",
        "set2 = set(my_list)\n",
        "\n",
        "print(set2)"
      ],
      "metadata": {
        "id": "qCN4uvJ_fxmu",
        "colab": {
          "base_uri": "https://localhost:8080/"
        },
        "outputId": "9e10254c-ad9b-42ab-b3cb-1ddaf957073d"
      },
      "execution_count": 46,
      "outputs": [
        {
          "output_type": "stream",
          "name": "stdout",
          "text": [
            "{1, 2, 67, 8, 9}\n"
          ]
        }
      ]
    },
    {
      "cell_type": "markdown",
      "source": [
        "*місце для текстової відповіді"
      ],
      "metadata": {
        "id": "tFNc1e20fyny"
      }
    },
    {
      "cell_type": "markdown",
      "source": [
        "Множини в Python є колекцією унікальних елементів, що означає, що вони не можуть містити дублікатів. Коли ми намагалися створити множину із наданого списку, Python автоматично видалив всі дублікати, залишаючи тільки унікальні елементи."
      ],
      "metadata": {
        "id": "Wv9_In_7pJc8"
      }
    },
    {
      "cell_type": "markdown",
      "source": [
        "19. Створіть дві множини. Продемонстуйте над ними операції: обʼєднання, різниці, пересічі та симетричної різниці. Використовуйте методи, що не змінюють множини, а створюють нові."
      ],
      "metadata": {
        "id": "SRMkGizS1UwY"
      }
    },
    {
      "cell_type": "code",
      "source": [
        "set3 = {1, 2, 3, 4, 5}\n",
        "set4 = {4, 5, 6, 7, 8}\n",
        "\n",
        "u_set = set3.union(set4)\n",
        "print(\"Об'єднання множин:\", u_set)\n",
        "\n",
        "diff_set = set3.difference(set4)\n",
        "print(\"Різниця множин:\", diff_set)\n",
        "\n",
        "intersection_set = set3.intersection(set4)\n",
        "print(\"Перетин множин:\", intersection_set)\n",
        "\n",
        "sym_diff_set = set3.symmetric_difference(set4)\n",
        "print(\"Симетрична різниця множин:\", sym_diff_set)"
      ],
      "metadata": {
        "id": "h0T-VuDnf3Ri",
        "colab": {
          "base_uri": "https://localhost:8080/"
        },
        "outputId": "fff0dcfc-2594-4821-d8fc-05a1e0b511e8"
      },
      "execution_count": 50,
      "outputs": [
        {
          "output_type": "stream",
          "name": "stdout",
          "text": [
            "Об'єднання множин: {1, 2, 3, 4, 5, 6, 7, 8}\n",
            "Різниця множин: {1, 2, 3}\n",
            "Перетин множин: {4, 5}\n",
            "Симетрична різниця множин: {1, 2, 3, 6, 7, 8}\n"
          ]
        }
      ]
    },
    {
      "cell_type": "markdown",
      "source": [
        "# VII. Словники (Dictionary)."
      ],
      "metadata": {
        "id": "kWc8gkzTx7Ea"
      }
    },
    {
      "cell_type": "markdown",
      "source": [
        "20. Створіть пустий словник. До нього додайте чотири пари елементів такі, щоб їхні ключі були різних типів. Чи може список бути ключем? Чому?"
      ],
      "metadata": {
        "id": "i5FLwj-B2ybQ"
      }
    },
    {
      "cell_type": "code",
      "source": [
        "dict1 = {}\n",
        "\n",
        "dict1[1] = 'kyiv'\n",
        "dict1['two'] = 'mohyla'\n",
        "dict1[(3, 4)] = 'academy'\n",
        "dict1[4.0] = 'student'\n",
        "\n",
        "print(dict1)"
      ],
      "metadata": {
        "id": "hxgv3BzrgLAV",
        "colab": {
          "base_uri": "https://localhost:8080/"
        },
        "outputId": "47297e09-c0ae-42cf-d552-fed10ef1e090"
      },
      "execution_count": 51,
      "outputs": [
        {
          "output_type": "stream",
          "name": "stdout",
          "text": [
            "{1: 'kyiv', 'two': 'mohyla', (3, 4): 'academy', 4.0: 'student'}\n"
          ]
        }
      ]
    },
    {
      "cell_type": "markdown",
      "source": [
        "*місце для текстової відповіді"
      ],
      "metadata": {
        "id": "zwa7UVN-gR3m"
      }
    },
    {
      "cell_type": "markdown",
      "source": [
        "Так, словник може мати ключі різних типів, але список не може бути ключем. Ключі словника повинні бути хешованими, тобто незмінними типами даних, такими як числа, рядки, та деякі інші. Список є змінним типом даних, тому він не може бути використаний як ключ у словнику."
      ],
      "metadata": {
        "id": "gL1VyEVcs8aW"
      }
    },
    {
      "cell_type": "markdown",
      "source": [
        "21. Створіть словник, де значенням в одній з пар теж буде словник, який теж має вкладений словник. Виведіть на екран значення, що міститься в словнику, що знаходиться на найнижчому рівні ієрархії вкладеності (найбільш внутрішній)."
      ],
      "metadata": {
        "id": "WM_pMlJsgoNf"
      }
    },
    {
      "cell_type": "code",
      "source": [
        "dict2 = {\n",
        "    'outer_key': {\n",
        "        'inner_key': {\n",
        "            'inner_inner_key': 'hello_world'\n",
        "        }\n",
        "    }\n",
        "}\n",
        "\n",
        "inner_inner_value = dict2['outer_key']['inner_key']['inner_inner_key']\n",
        "print(\"Значення на найнижчому рівні вкладеності:\", inner_inner_value)"
      ],
      "metadata": {
        "id": "60dlP7IHhAy4",
        "colab": {
          "base_uri": "https://localhost:8080/"
        },
        "outputId": "28a19ccf-9041-4547-f239-42b8b53cbebe"
      },
      "execution_count": 52,
      "outputs": [
        {
          "output_type": "stream",
          "name": "stdout",
          "text": [
            "Значення на найнижчому рівні вкладеності: hello_world\n"
          ]
        }
      ]
    },
    {
      "cell_type": "markdown",
      "source": [
        "# Вітаю! Ви велика(ий) молодець, що впоралась(вся). Похваліть себе та побалуйте чимось приємним. Я Вами пишаюся."
      ],
      "metadata": {
        "id": "xOZP0hkx6cCr"
      }
    }
  ]
}